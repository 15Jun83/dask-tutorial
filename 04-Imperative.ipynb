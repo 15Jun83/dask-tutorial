{
 "cells": [
  {
   "cell_type": "markdown",
   "metadata": {},
   "source": [
    "Imperative Programming\n",
    "=================\n",
    "\n",
    "Many problems don't fit cleanly into `ndarray` or `DataFrame` abstractions.  How can we use dask to parallelize more custom workloads?\n",
    "\n",
    "We can always fall back to creating dictionaries manually:\n",
    "\n",
    "    dsk = {'load-1': (load, filename1), 'clean-1': (clean, 'load-1'), ...,\n",
    "           'load-2': (load, filename2), 'clean-2': (clean, 'load-2'), ...,\n",
    "           ...}\n",
    "    \n",
    "Manual dictionary creation though can be tedious, is prone to programmer error, and feels foreign to many developers. \n",
    "\n",
    "The dask `do` function helps you to construct custom dask graphs using more typical coding styles than the explicit construction of a dictionary."
   ]
  },
  {
   "cell_type": "markdown",
   "metadata": {},
   "source": [
    "### Custom graphs with `do`\n",
    "\n",
    "The `do` function delays a function evaluation, producing a lazily evaluated result.  One wraps a function with a `do` call\n",
    "\n",
    "*  Before:  \n",
    "\n",
    "        result = f(a, b, c=10)\n",
    "*  After:  \n",
    "\n",
    "        result = do(f)(a, b, c=10)\n",
    "        \n",
    "The result of a call to `do(function)` is a lazy `Value` object that we can use in future `do` calls or eventually call `.compute()`\n",
    "\n",
    "    >>> result.compute()"
   ]
  },
  {
   "cell_type": "markdown",
   "metadata": {},
   "source": [
    "### A Familiar Example\n",
    "\n",
    "To explore this abstraction we revisit our examples from the [Foundations Notebook](02-Foundations.ipynb)"
   ]
  },
  {
   "cell_type": "code",
   "execution_count": null,
   "metadata": {
    "collapsed": false
   },
   "outputs": [],
   "source": [
    "def inc(x):\n",
    "    return x\n",
    "\n",
    "def add(x, y):\n",
    "    return x + y\n",
    "\n",
    "a = 1\n",
    "b = inc(a)\n",
    "\n",
    "x = 10\n",
    "y = inc(x)\n",
    "\n",
    "z = add(b, y)\n",
    "z"
   ]
  },
  {
   "cell_type": "markdown",
   "metadata": {},
   "source": [
    "Originally we parallelized this by constructing a dask graph explicitly"
   ]
  },
  {
   "cell_type": "code",
   "execution_count": null,
   "metadata": {
    "collapsed": true
   },
   "outputs": [],
   "source": [
    "dsk = {'a': 1, \n",
    "       'b': (inc, 'a'),\n",
    "       \n",
    "       'x': 10,\n",
    "       'y': (inc, 'x'),\n",
    "       \n",
    "       'z': (add, 'b', 'y')}"
   ]
  },
  {
   "cell_type": "markdown",
   "metadata": {},
   "source": [
    "Now we can also use the `do` function to construct the dask graph with more traditional programming."
   ]
  },
  {
   "cell_type": "code",
   "execution_count": null,
   "metadata": {
    "collapsed": false
   },
   "outputs": [],
   "source": [
    "from dask import do\n",
    "\n",
    "a = 1\n",
    "b = do(inc)(a)\n",
    "\n",
    "x = 10\n",
    "y = do(inc)(x)\n",
    "\n",
    "z = do(add)(b, y)\n",
    "z"
   ]
  },
  {
   "cell_type": "code",
   "execution_count": null,
   "metadata": {
    "collapsed": false
   },
   "outputs": [],
   "source": [
    "z.compute()"
   ]
  },
  {
   "cell_type": "markdown",
   "metadata": {},
   "source": [
    "These value objects build up the dask graph as they go.  These graphs are less interpretable but fine for normal execution."
   ]
  },
  {
   "cell_type": "code",
   "execution_count": null,
   "metadata": {
    "collapsed": false
   },
   "outputs": [],
   "source": [
    "z.dask"
   ]
  },
  {
   "cell_type": "markdown",
   "metadata": {},
   "source": [
    "Exercise\n",
    "---------\n",
    "\n",
    "Consider our first exercise reading three CSV files with `pd.read_csv` and then measuring their total length.  "
   ]
  },
  {
   "cell_type": "code",
   "execution_count": null,
   "metadata": {
    "collapsed": false
   },
   "outputs": [],
   "source": [
    "import pandas as pd\n",
    "import os\n",
    "filenames = [os.path.join('data', 'accounts.%d.csv' % i) for i in [0, 1, 2]]\n",
    "filenames"
   ]
  },
  {
   "cell_type": "code",
   "execution_count": null,
   "metadata": {
    "collapsed": false
   },
   "outputs": [],
   "source": [
    "%%time\n",
    "\n",
    "a = pd.read_csv(filenames[0])\n",
    "b = pd.read_csv(filenames[1])\n",
    "c = pd.read_csv(filenames[2])\n",
    "\n",
    "na = len(a)\n",
    "nb = len(b)\n",
    "nc = len(c)\n",
    "\n",
    "total = sum([na, nb, nc])\n",
    "total"
   ]
  },
  {
   "cell_type": "markdown",
   "metadata": {},
   "source": [
    "In the first notebook we constructed a dask graph from this computation and then executed it in parallel using multiple processes to get a speedup"
   ]
  },
  {
   "cell_type": "code",
   "execution_count": null,
   "metadata": {
    "collapsed": false
   },
   "outputs": [],
   "source": [
    "# %load solutions/Foundations-01.py\n",
    "dsk = {'a': (pd.read_csv, filenames[0]),\n",
    "       'b': (pd.read_csv, filenames[1]),\n",
    "       'c': (pd.read_csv, filenames[2]),\n",
    "       'na': (len, 'a'),\n",
    "       'nb': (len, 'b'),\n",
    "       'nc': (len, 'c'),\n",
    "       'total': (sum, ['na', 'nb', 'nc'])}"
   ]
  },
  {
   "cell_type": "code",
   "execution_count": null,
   "metadata": {
    "collapsed": false
   },
   "outputs": [],
   "source": [
    "from dask.multiprocessing import get\n",
    "%time  get(dsk, 'total')"
   ]
  },
  {
   "cell_type": "markdown",
   "metadata": {},
   "source": [
    "Your task is to recreate this graph again using the `do` function on the original Python code."
   ]
  },
  {
   "cell_type": "code",
   "execution_count": null,
   "metadata": {
    "collapsed": true
   },
   "outputs": [],
   "source": [
    "a = do(pd.read_csv)(filenames[0])\n",
    "...\n",
    "\n",
    "total = ...\n",
    "\n",
    "%time total.compute(get=get) # use multiprocessing get function in call to compute"
   ]
  }
 ],
 "metadata": {
  "kernelspec": {
   "display_name": "Python 2",
   "language": "python",
   "name": "python2"
  },
  "language_info": {
   "codemirror_mode": {
    "name": "ipython",
    "version": 2
   },
   "file_extension": ".py",
   "mimetype": "text/x-python",
   "name": "python",
   "nbconvert_exporter": "python",
   "pygments_lexer": "ipython2",
   "version": "2.7.10"
  }
 },
 "nbformat": 4,
 "nbformat_minor": 0
}
