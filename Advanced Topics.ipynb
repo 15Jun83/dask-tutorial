{
 "cells": [
  {
   "cell_type": "markdown",
   "metadata": {},
   "source": [
    "##Globals in a dask graph"
   ]
  },
  {
   "cell_type": "code",
   "execution_count": 2,
   "metadata": {
    "collapsed": true
   },
   "outputs": [],
   "source": [
    "x = 15\n",
    "\n",
    "def f():\n",
    "    global x\n",
    "    x = x + 1\n",
    "    return x\n",
    "\n",
    "def inc(x):\n",
    "    return x + 1\n",
    "\n",
    "def add(x, y):\n",
    "    return x + y"
   ]
  },
  {
   "cell_type": "code",
   "execution_count": 4,
   "metadata": {
    "collapsed": false
   },
   "outputs": [],
   "source": [
    "import dask.threaded\n",
    "import dask.multiprocessing\n",
    "\n",
    "dsk = {\"1\": (f,),\n",
    "       \"2\": (add, \"1\", \"1\"),\n",
    "       \"3\": (add, \"1\", 0),\n",
    "       \"4\": (add, \"1\", 0),\n",
    "       \"5\": (add, \"3\", \"4\")}\n"
   ]
  },
  {
   "cell_type": "markdown",
   "metadata": {},
   "source": [
    "###Questions\n",
    "1. What will dask.threading.get(dsk, \"2\") return?\n",
    "  * 30?\n",
    "  * 31?\n",
    "  * Some other value?\n",
    "  * Failure?\n",
    "2. What if dask.threading.get(dsk, \"2\") is called again?\n",
    "  * 32?\n",
    "  * 33?\n",
    "  * Some other value?\n",
    "  * Failure?\n",
    "3. What will dask.multiprocessing.get(dsk, \"2\") return?\n",
    "  * 34?\n",
    "  * 35?\n",
    "  * Some other value?\n",
    "  * Failure?\n",
    "4. What if dask.multiprocessing.get(dsk, \"2\") is called again?\n",
    "  * 36?\n",
    "  * 37?\n",
    "  * Some other value?\n",
    "  * Failure?\n",
    "\n",
    "####Moral of the story\n",
    "* Globals are always fraught with peril."
   ]
  },
  {
   "cell_type": "markdown",
   "metadata": {},
   "source": [
    "##Classes in a dask graph"
   ]
  },
  {
   "cell_type": "code",
   "execution_count": 5,
   "metadata": {
    "collapsed": true
   },
   "outputs": [],
   "source": [
    "class Foo(object):\n",
    "    def __init__(self, arg1):\n",
    "        self.arg1 = arg1\n",
    "        \n",
    "    #Coming to you live from the JVM!!\n",
    "    #<drumroll>\n",
    "    #Getters and Setters!!!! WOOOOOOO!!!!\n",
    "    def get(self):\n",
    "        return self.arg1\n",
    "    \n",
    "    def set(self, arg):\n",
    "        self.arg1 = arg\n",
    "        \n"
   ]
  },
  {
   "cell_type": "code",
   "execution_count": 6,
   "metadata": {
    "collapsed": true
   },
   "outputs": [],
   "source": [
    "dsk = {}"
   ]
  },
  {
   "cell_type": "markdown",
   "metadata": {},
   "source": [
    "###Questions\n",
    "* Should classes be avoided in dask graphs?\n",
    "  * Maybe\n",
    "* "
   ]
  },
  {
   "cell_type": "markdown",
   "metadata": {},
   "source": [
    "##Generators in a dask graph"
   ]
  },
  {
   "cell_type": "code",
   "execution_count": 10,
   "metadata": {
    "collapsed": false
   },
   "outputs": [
    {
     "name": "stdout",
     "output_type": "stream",
     "text": [
      "0\n",
      "-1\n",
      "-2\n",
      "-3\n",
      "-4\n"
     ]
    }
   ],
   "source": [
    "import operator\n",
    "\n",
    "def gen1(x):\n",
    "    for i in xrange(x):\n",
    "        yield -i\n",
    "        \n",
    "\n",
    "dsk = {\"gen1\": gen1(100),\n",
    "       \"x\":(operator.methodcaller('next'),\"gen1\")}\n",
    "\n",
    "print dask.threaded.get(dsk, 'x')\n",
    "print dask.threaded.get(dsk, 'x')\n",
    "print dask.threaded.get(dsk, 'x')\n",
    "print dask.threaded.get(dsk, 'x')\n",
    "print dask.threaded.get(dsk, 'x')"
   ]
  },
  {
   "cell_type": "markdown",
   "metadata": {},
   "source": [
    "###Questions\n",
    "* Why would you want to do such a thing?"
   ]
  },
  {
   "cell_type": "markdown",
   "metadata": {},
   "source": [
    "##Keys in the dask graph\n"
   ]
  },
  {
   "cell_type": "code",
   "execution_count": 11,
   "metadata": {
    "collapsed": false
   },
   "outputs": [],
   "source": [
    "dsk = {\"1\": 100,\n",
    "       \"2\": 200,\n",
    "        3: 300,\n",
    "       \"4\": (add, \"1\", \"2\"),\n",
    "       \"5\": (add, 2, 3)}"
   ]
  },
  {
   "cell_type": "markdown",
   "metadata": {},
   "source": [
    "###Questions\n",
    " * What will dask.threaded.get(dsk, \"4\") return?\n",
    " * What will dask.threaded.get(dsk, \"5\") return?"
   ]
  },
  {
   "cell_type": "code",
   "execution_count": 12,
   "metadata": {
    "collapsed": false
   },
   "outputs": [
    {
     "name": "stdout",
     "output_type": "stream",
     "text": [
      "300\n",
      "302\n"
     ]
    }
   ],
   "source": [
    "print dask.threaded.get(dsk, \"4\")\n",
    "print dask.threaded.get(dsk, \"5\")"
   ]
  },
  {
   "cell_type": "code",
   "execution_count": null,
   "metadata": {
    "collapsed": true
   },
   "outputs": [],
   "source": []
  }
 ],
 "metadata": {
  "kernelspec": {
   "display_name": "Python 2",
   "language": "python",
   "name": "python2"
  },
  "language_info": {
   "codemirror_mode": {
    "name": "ipython",
    "version": 2
   },
   "file_extension": ".py",
   "mimetype": "text/x-python",
   "name": "python",
   "nbconvert_exporter": "python",
   "pygments_lexer": "ipython2",
   "version": "2.7.10"
  }
 },
 "nbformat": 4,
 "nbformat_minor": 0
}
