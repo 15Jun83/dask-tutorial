{
 "cells": [
  {
   "cell_type": "markdown",
   "metadata": {},
   "source": [
    "Foundations\n",
    "===========\n",
    "\n",
    "Start off by showing the guts of dask.  This is going to be straightforward but somewhat tedious.  \n",
    "\n",
    "You can skip ahead if you don't care about how things work."
   ]
  },
  {
   "cell_type": "markdown",
   "metadata": {},
   "source": [
    "### We make functions"
   ]
  },
  {
   "cell_type": "code",
   "execution_count": null,
   "metadata": {
    "collapsed": false
   },
   "outputs": [],
   "source": [
    "def inc(x):\n",
    "    return x + 1\n",
    "\n",
    "def add(x, y):\n",
    "    return x + y"
   ]
  },
  {
   "cell_type": "markdown",
   "metadata": {},
   "source": [
    "### Normally we call these functions in Python code\n",
    "\n",
    "Python then executes our code in the order written."
   ]
  },
  {
   "cell_type": "code",
   "execution_count": null,
   "metadata": {
    "collapsed": false
   },
   "outputs": [],
   "source": [
    "a = 1\n",
    "b = inc(a)\n",
    "\n",
    "x = 10\n",
    "y = inc(x)\n",
    "\n",
    "z = add(b, y)\n",
    "z"
   ]
  },
  {
   "cell_type": "markdown",
   "metadata": {},
   "source": [
    "If we want parallelism then we can't do this.  We need to stop Python from taking control."
   ]
  },
  {
   "cell_type": "markdown",
   "metadata": {},
   "source": [
    "### We represent our computation as a data structure\n",
    "\n",
    "We store the steps of the computation above as a Python dictionary.  We store function calls as tuples.\n",
    "\n",
    "This is going to look a little strange but we'll have the entire computation stored in a Python data structure that we can manipulate with *other* Python code."
   ]
  },
  {
   "cell_type": "code",
   "execution_count": null,
   "metadata": {
    "collapsed": true
   },
   "outputs": [],
   "source": [
    "dsk = {'a': 1, \n",
    "       'b': (inc, 'a'),\n",
    "       \n",
    "       'x': 10,\n",
    "       'y': (inc, 'x'),\n",
    "       \n",
    "       'z': (add, 'b', 'y')}"
   ]
  },
  {
   "cell_type": "markdown",
   "metadata": {},
   "source": [
    "### We use functions to execute these computations\n",
    "\n",
    "The dask library contains functions to execute these dictionaries with multiple threads or multiple processes."
   ]
  },
  {
   "cell_type": "code",
   "execution_count": null,
   "metadata": {
    "collapsed": false
   },
   "outputs": [],
   "source": [
    "from dask.threaded import get\n",
    "get(dsk, 'z')  # Execute in multiple threads"
   ]
  },
  {
   "cell_type": "code",
   "execution_count": null,
   "metadata": {
    "collapsed": false
   },
   "outputs": [],
   "source": [
    "from dask.multiprocessing import get\n",
    "get(dsk, 'z')  # Execute in multiple processes"
   ]
  },
  {
   "cell_type": "markdown",
   "metadata": {},
   "source": [
    "### We can also analyze and visualize these graphs"
   ]
  },
  {
   "cell_type": "code",
   "execution_count": null,
   "metadata": {
    "collapsed": false
   },
   "outputs": [],
   "source": [
    "# Requires that you have pydot and graphviz installed\n",
    "# This isn't a problem if this doesn't work for you\n",
    "from dask.dot import dot_graph\n",
    "dot_graph(dsk)"
   ]
  },
  {
   "cell_type": "markdown",
   "metadata": {},
   "source": [
    "That's it\n",
    "----------\n",
    "\n",
    "The rest of this tutorial is just fancy ways of constructing and executing these dictionaries of task graphs.  \n",
    "\n",
    "Fundamentally dask is a way to represent computations as dictionaries, and then analyze and execute them."
   ]
  },
  {
   "cell_type": "markdown",
   "metadata": {},
   "source": [
    "Exercise - `read_csv`\n",
    "------------------------\n",
    "\n",
    "There are three CSV files in your `data` directory.  Lets count how many rows are in all of these csv files total.  In normal Python we might do the following."
   ]
  },
  {
   "cell_type": "code",
   "execution_count": null,
   "metadata": {
    "collapsed": false
   },
   "outputs": [],
   "source": [
    "import pandas as pd\n",
    "\n",
    "import os\n",
    "filenames = [os.path.join('data', 'accounts.%d.csv' % i) for i in [0, 1, 2]]\n",
    "filenames"
   ]
  },
  {
   "cell_type": "code",
   "execution_count": null,
   "metadata": {
    "collapsed": false
   },
   "outputs": [],
   "source": [
    "%%time \n",
    "\n",
    "a = pd.read_csv(filenames[0])\n",
    "b = pd.read_csv(filenames[1])\n",
    "c = pd.read_csv(filenames[2])\n",
    "\n",
    "na = len(a)\n",
    "nb = len(b)\n",
    "nc = len(c)\n",
    "\n",
    "total = sum([na, nb, nc])\n",
    "total"
   ]
  },
  {
   "cell_type": "markdown",
   "metadata": {},
   "source": [
    "### Exercise: Construct a dask graph/dictionary for this computation\n",
    "\n",
    "Just as we turned code that looks like \n",
    "\n",
    "```python\n",
    "y = f(x)\n",
    "```\n",
    "\n",
    "into dictionaries like \n",
    "\n",
    "```python\n",
    "{'y': (f, 'x')}\n",
    "```\n",
    "\n",
    "We can transform the above calls to `pd.read_csv`, `len`, and `sum` into a dictionary of tuples"
   ]
  },
  {
   "cell_type": "code",
   "execution_count": null,
   "metadata": {
    "collapsed": true
   },
   "outputs": [],
   "source": [
    "dsk = {'a': ...,\n",
    "       'b': ...,\n",
    "      }"
   ]
  },
  {
   "cell_type": "code",
   "execution_count": null,
   "metadata": {
    "collapsed": false
   },
   "outputs": [],
   "source": [
    "# Solution\n",
    "%load solutions/Foundations-01.py"
   ]
  },
  {
   "cell_type": "markdown",
   "metadata": {},
   "source": [
    "### Execute your dask graph\n",
    "\n",
    "Use the threaded scheduler and the multiprocessing scheduler.  \n",
    "\n",
    "How well does each perform?"
   ]
  },
  {
   "cell_type": "code",
   "execution_count": null,
   "metadata": {
    "collapsed": false
   },
   "outputs": [],
   "source": [
    "from dask.threaded import get\n",
    "%time get(dsk, 'total')"
   ]
  },
  {
   "cell_type": "code",
   "execution_count": null,
   "metadata": {
    "collapsed": false
   },
   "outputs": [],
   "source": [
    "from dask.multiprocessing import get\n",
    "%time get(dsk, 'total')"
   ]
  },
  {
   "cell_type": "markdown",
   "metadata": {},
   "source": [
    "Exercise\n",
    "--------\n",
    "\n",
    "Compute the sum of the amounts field across all three CSV files.  In normal sequential code we might execute the following:"
   ]
  },
  {
   "cell_type": "code",
   "execution_count": null,
   "metadata": {
    "collapsed": false
   },
   "outputs": [],
   "source": [
    "sums = list()\n",
    "for fn in filenames:\n",
    "    df = pd.read_csv(fn)\n",
    "    sums.append(df.amount.sum())\n",
    "total = sum(sums)\n",
    "total"
   ]
  },
  {
   "cell_type": "markdown",
   "metadata": {},
   "source": [
    "Now create the same dask graph.  The use of attribute access (e.g. `.amount`) and methods (e.g. `.sum()`) will require you to be a little tricky when putting this code into an explicit dictionary.  \n",
    "\n",
    "We suggest building and using a small function to compute the sum of the amount of a dataframe and using this function in your dask graph."
   ]
  },
  {
   "cell_type": "code",
   "execution_count": null,
   "metadata": {
    "collapsed": true
   },
   "outputs": [],
   "source": [
    "def amount_sum(df):\n",
    "    return df.amount.sum()"
   ]
  },
  {
   "cell_type": "code",
   "execution_count": null,
   "metadata": {
    "collapsed": false
   },
   "outputs": [],
   "source": [
    "dsk = dict()\n",
    "\n",
    "for ..."
   ]
  },
  {
   "cell_type": "code",
   "execution_count": null,
   "metadata": {
    "collapsed": true
   },
   "outputs": [],
   "source": [
    "# Solution\n",
    "%load solutions/Foundations-02.py"
   ]
  },
  {
   "cell_type": "code",
   "execution_count": null,
   "metadata": {
    "collapsed": false
   },
   "outputs": [],
   "source": [
    "get(dsk, 'total')"
   ]
  },
  {
   "cell_type": "markdown",
   "metadata": {},
   "source": [
    "Conclusion\n",
    "------------\n",
    "\n",
    "Dask graphs represent computations as dictionaries of tuples.  \n",
    "\n",
    "The `get` functions execute these dictionaries in parallel.\n",
    "\n",
    "We've made a few of these dictionaries by hand.  It's straightforward but perhaps tiresome.\n",
    "In the next sections we'll play with systems that generate these dictionaries for us."
   ]
  }
 ],
 "metadata": {
  "kernelspec": {
   "display_name": "Python 2",
   "language": "python",
   "name": "python2"
  },
  "language_info": {
   "codemirror_mode": {
    "name": "ipython",
    "version": 2
   },
   "file_extension": ".py",
   "mimetype": "text/x-python",
   "name": "python",
   "nbconvert_exporter": "python",
   "pygments_lexer": "ipython2",
   "version": "2.7.9"
  }
 },
 "nbformat": 4,
 "nbformat_minor": 0
}
